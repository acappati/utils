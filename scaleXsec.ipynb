{
 "cells": [
  {
   "cell_type": "code",
   "execution_count": 4,
   "id": "a0851b03",
   "metadata": {},
   "outputs": [],
   "source": [
    "import sys                                                                                                                                                                             \n",
    "import pandas as pd                                                                                                                                                                    \n",
    "import matplotlib as mpl                                                                                                                                                               \n",
    "import matplotlib.pyplot as plt                                                                                                                                                        \n",
    "import os                                                                                                                                                                              \n",
    "import numpy as np    "
   ]
  },
  {
   "cell_type": "markdown",
   "id": "9236e637",
   "metadata": {},
   "source": [
    "## mass points"
   ]
  },
  {
   "cell_type": "code",
   "execution_count": 5,
   "id": "4e36b083",
   "metadata": {},
   "outputs": [],
   "source": [
    "massarr = np.array([120., 124., 124.5, 125., 125.5, 126., 130.]) "
   ]
  },
  {
   "cell_type": "markdown",
   "id": "c753d2b9",
   "metadata": {},
   "source": [
    "## array of H xsec at 13TeV (from YR4: https://twiki.cern.ch/twiki/bin/view/LHCPhysics/CERNYellowReportPageAt13TeV ) "
   ]
  },
  {
   "cell_type": "code",
   "execution_count": 11,
   "id": "0617eb3f",
   "metadata": {},
   "outputs": [],
   "source": [
    "xsec13_ggh = np.array([5.222e+01, 4.927e+01, 4.892e+01, 4.858e+01, 4.823e+01, 4.789e+01, 4.531e+01]) # [pb], N3LO                                                          \n",
    "xsec13_vbfh = np.array([3.935e+00, 3.812e+00, 3.797e+00, 3.782e+00, 3.767e+00, 3.752e+00, 3.637e+00]) # [pb]                                                                \n",
    "xsec13_wplush = np.array([9.558e-01, 8.611e-01, 8.500e-01, 8.400e-01, 8.291e-01, 8.184e-01, 7.414e-01]) # [pb]                                                                \n",
    "xsec13_wminush = np.array([6.092e-01, 5.466e-01, 5.395e-01, 5.328e-01, 5.259e-01, 5.187e-01, 4.676e-01]) # [pb]                                                                \n",
    "xsec13_zh_ppzh = np.array([9.939e-01, 9.051e-01, 8.943e-01, 8.839e-01, 8.744e-01, 8.649e-01, 7.899e-01]) # [pb] # ingredient for xsec ZH                                       \n",
    "xsec13_zh_ggzh = np.array([1.299e-01, 1.242e-01, 1.235e-01, 1.227e-01, 1.221e-01, 1.218e-01, 1.164e-01]) # [pb] # ingredient for xsec ZH                                       \n",
    "xsec13_tth = np.array([5.697e-01, 5.193e-01, 5.132e-01, 5.071e-01, 5.023e-01, 4.964e-01, 4.539e-01]) # [pb]  \n",
    "xsec13_bbh = np.array([5.534e-01, 4.999e-01, 4.930e-01, 4.880e-01, 4.809e-01, 4.760e-01, 4.304e-01]) # [pb] "
   ]
  },
  {
   "cell_type": "markdown",
   "id": "ee2319d6",
   "metadata": {},
   "source": [
    "#### xsec ZH: obtained as: xsec(pp->ZH) - xsec(gg->ZH)"
   ]
  },
  {
   "cell_type": "code",
   "execution_count": 12,
   "id": "34cc4e1c",
   "metadata": {},
   "outputs": [],
   "source": [
    "xsec13_zh = xsec13_zh_ppzh - xsec13_zh_ggzh"
   ]
  },
  {
   "cell_type": "code",
   "execution_count": 13,
   "id": "4b756a96",
   "metadata": {},
   "outputs": [
    {
     "data": {
      "text/plain": [
       "array([0.864 , 0.7809, 0.7708, 0.7612, 0.7523, 0.7431, 0.6735])"
      ]
     },
     "execution_count": 13,
     "metadata": {},
     "output_type": "execute_result"
    }
   ],
   "source": [
    "xsec13_zh"
   ]
  },
  {
   "cell_type": "markdown",
   "id": "c1287cc8",
   "metadata": {},
   "source": [
    "#### scale factor for lumi"
   ]
  },
  {
   "cell_type": "code",
   "execution_count": 28,
   "id": "d3931a15",
   "metadata": {},
   "outputs": [],
   "source": [
    "lumiScale = 13.6 / 13."
   ]
  },
  {
   "cell_type": "code",
   "execution_count": 29,
   "id": "b76406b8",
   "metadata": {},
   "outputs": [
    {
     "data": {
      "text/plain": [
       "1.0461538461538462"
      ]
     },
     "execution_count": 29,
     "metadata": {},
     "output_type": "execute_result"
    }
   ],
   "source": [
    "lumiScale"
   ]
  },
  {
   "cell_type": "markdown",
   "id": "c7c0e261",
   "metadata": {},
   "source": [
    "### plot"
   ]
  },
  {
   "cell_type": "code",
   "execution_count": 30,
   "id": "0ce58385",
   "metadata": {},
   "outputs": [
    {
     "data": {
      "image/png": "[encoded data removed]",
      "text/plain": [
       "<Figure size 432x288 with 1 Axes>"
      ]
     },
     "metadata": {
      "needs_background": "light"
     },
     "output_type": "display_data"
    }
   ],
   "source": [
    "fig, ax = plt.subplots()\n",
    "ax.scatter(massarr, xsec13_ggh, label='ggH')\n",
    "ax.scatter(massarr, xsec13_vbfh, label='VBFH')\n",
    "ax.scatter(massarr, xsec13_wplush, label='HW+')\n",
    "ax.scatter(massarr, xsec13_wminush, label='HW-')\n",
    "ax.scatter(massarr, xsec13_zh, label='ZH')\n",
    "ax.scatter(massarr, xsec13_tth, label='ttH')\n",
    "ax.legend()\n",
    "\n",
    "ax.set_xlabel('mass [GeV]')\n",
    "ax.set_ylabel('xsec [pb]')\n",
    "ax.set_yscale('log')"
   ]
  },
  {
   "cell_type": "markdown",
   "id": "dc35b4ae",
   "metadata": {},
   "source": [
    "## xsec scaled at 13.6 TeV"
   ]
  },
  {
   "cell_type": "code",
   "execution_count": 31,
   "id": "21493777",
   "metadata": {},
   "outputs": [],
   "source": [
    "xsec13p6_ggh     = xsec13_ggh    *lumiScale\n",
    "xsec13p6_vbfh    = xsec13_vbfh   *lumiScale\n",
    "xsec13p6_wplush  = xsec13_wplush *lumiScale\n",
    "xsec13p6_wminush = xsec13_wminush*lumiScale\n",
    "xsec13p6_zh      = xsec13_zh     *lumiScale\n",
    "xsec13p6_tth     = xsec13_tth    *lumiScale"
   ]
  },
  {
   "cell_type": "code",
   "execution_count": 32,
   "id": "822adbe4",
   "metadata": {},
   "outputs": [
    {
     "data": {
      "text/plain": [
       "array([54.63015385, 51.544     , 51.17784615, 50.82215385, 50.456     ,\n",
       "       50.10030769, 47.40123077])"
      ]
     },
     "execution_count": 32,
     "metadata": {},
     "output_type": "execute_result"
    }
   ],
   "source": [
    "xsec13p6_ggh"
   ]
  },
  {
   "cell_type": "code",
   "execution_count": 33,
   "id": "a6622cce",
   "metadata": {},
   "outputs": [
    {
     "data": {
      "image/png": "[encoded data removed]",
      "text/plain": [
       "<Figure size 432x288 with 1 Axes>"
      ]
     },
     "metadata": {
      "needs_background": "light"
     },
     "output_type": "display_data"
    }
   ],
   "source": [
    "fig1, ax1 = plt.subplots()\n",
    "ax1.scatter(massarr, xsec13_ggh, label='ggH @13TeV')\n",
    "ax1.scatter(massarr, xsec13p6_ggh, label='ggH @13.6 TeV')\n",
    "\n",
    "ax1.legend()\n",
    "\n",
    "ax1.set_xlabel('mass [GeV]')\n",
    "ax1.set_ylabel('xsec [pb]')\n",
    "ax1.set_yscale('log')"
   ]
  },
  {
   "cell_type": "markdown",
   "id": "741251b0",
   "metadata": {},
   "source": [
    "#  RECOMMENDED scaling method [THE ONE TO BE USED!]"
   ]
  },
  {
   "cell_type": "markdown",
   "id": "fbb8ee12",
   "metadata": {},
   "source": [
    "xsec_13p6 = xsec_13 * 0.4 + xsec_14 * 0.6\n",
    "\n",
    "https://indico.cern.ch/event/1169286/contributions/5126668/attachments/2557560/4416316/HXSWG.pdf#page=5"
   ]
  },
  {
   "cell_type": "markdown",
   "id": "7ad5accd",
   "metadata": {},
   "source": [
    "### array of H xsec at 14 TeV \n",
    "\n",
    "from YR4: https://twiki.cern.ch/twiki/bin/view/LHCPhysics/CERNYellowReportPageAt14TeV"
   ]
  },
  {
   "cell_type": "code",
   "execution_count": 15,
   "id": "0ca24020",
   "metadata": {},
   "outputs": [],
   "source": [
    "xsec14_ggh = np.array([5.871e+01, 5.545e+01, 5.506e+01, 5.467e+01, 5.429e+01, 5.392e+01, 5.105e+01]) # [pb] N3LO\n",
    "xsec14_vbfh = np.array([4.448e+00, 4.311e+00, 4.295e+00, 4.278e+00, 4.262e+00, 4.245e+00, 4.117e+00]) # [pb]                                                                \n",
    "xsec14_wplush = np.array([1.048e+00, 9.457e-01, 9.338e-01, 9.218e-01, 9.099e-01, 8.990e-01, 8.131e-01]) # [pb]                                                                \n",
    "xsec14_wminush = np.array([6.761e-01, 6.077e-01, 5.997e-01, 5.912e-01, 5.841e-01, 5.770e-01, 5.199e-01]) # [pb]                                                                \n",
    "xsec14_zh_ppzh = np.array([1.106e+00, 1.009e+00, 9.974e-01, 9.861e-01, 9.745e-01, 9.745e-01, 8.805e-01]) # [pb] # ingredient for xsec ZH                                       \n",
    "xsec14_zh_ggzh = np.array([1.523e-01, 1.461e-01, 1.452e-01, 1.443e-01, 1.435e-01, 1.435e-01, 1.363e-01]) # [pb] # ingredient for xsec ZH                                       \n",
    "xsec14_tth = np.array([6.888e-01, 6.279e-01, 6.217e-01, 6.137e-01, 6.075e-01, 6.009e-01, 5.486e-01]) # [pb] \n",
    "xsec14_bbh = np.array([6.288E-01, 5.672E-01, 5.596E-01, 5.529E-01, 5.453E-01, 5.384E-01, 4.878E-01]) # [pb]"
   ]
  },
  {
   "cell_type": "markdown",
   "id": "83df8b39",
   "metadata": {},
   "source": [
    "#### xsec ZH: obtained as: xsec(pp->ZH) - xsec(gg->ZH)"
   ]
  },
  {
   "cell_type": "code",
   "execution_count": 16,
   "id": "cc47d5a6",
   "metadata": {},
   "outputs": [],
   "source": [
    "xsec14_zh = xsec14_zh_ppzh - xsec14_zh_ggzh"
   ]
  },
  {
   "cell_type": "code",
   "execution_count": 17,
   "id": "a2fab1a9",
   "metadata": {},
   "outputs": [
    {
     "data": {
      "text/plain": [
       "array([0.9537, 0.8629, 0.8522, 0.8418, 0.831 , 0.831 , 0.7442])"
      ]
     },
     "execution_count": 17,
     "metadata": {},
     "output_type": "execute_result"
    }
   ],
   "source": [
    "xsec14_zh"
   ]
  },
  {
   "cell_type": "markdown",
   "id": "6e39a4e4",
   "metadata": {},
   "source": [
    "### xsec scaled v2"
   ]
  },
  {
   "cell_type": "code",
   "execution_count": 19,
   "id": "417431c8",
   "metadata": {},
   "outputs": [],
   "source": [
    "xsec13p6_ggh_v2     = 0.4 * xsec13_ggh     + 0.6 * xsec14_ggh\n",
    "xsec13p6_vbfh_v2    = 0.4 * xsec13_vbfh    + 0.6 * xsec14_vbfh\n",
    "xsec13p6_wplush_v2  = 0.4 * xsec13_wplush  + 0.6 * xsec14_wplush\n",
    "xsec13p6_wminush_v2 = 0.4 * xsec13_wminush + 0.6 * xsec14_wminush\n",
    "xsec13p6_zh_v2      = 0.4 * xsec13_zh      + 0.6 * xsec14_zh\n",
    "xsec13p6_tth_v2     = 0.4 * xsec13_tth     + 0.6 * xsec14_tth\n",
    "xsec13p6_bbh_v2     = 0.4 * xsec13_bbh     + 0.6 * xsec14_bbh"
   ]
  },
  {
   "cell_type": "code",
   "execution_count": 20,
   "id": "ab1dcacd",
   "metadata": {},
   "outputs": [
    {
     "data": {
      "text/plain": [
       "array([56.114, 52.978, 52.604, 52.234, 51.866, 51.508, 48.754])"
      ]
     },
     "execution_count": 20,
     "metadata": {},
     "output_type": "execute_result"
    }
   ],
   "source": [
    "xsec13p6_ggh_v2"
   ]
  },
  {
   "cell_type": "code",
   "execution_count": 21,
   "id": "1f45c569",
   "metadata": {},
   "outputs": [
    {
     "data": {
      "text/plain": [
       "array([4.2428, 4.1114, 4.0958, 4.0796, 4.064 , 4.0478, 3.925 ])"
      ]
     },
     "execution_count": 21,
     "metadata": {},
     "output_type": "execute_result"
    }
   ],
   "source": [
    "xsec13p6_vbfh_v2"
   ]
  },
  {
   "cell_type": "code",
   "execution_count": 22,
   "id": "08dbff10",
   "metadata": {},
   "outputs": [
    {
     "data": {
      "text/plain": [
       "array([1.01112, 0.91186, 0.90028, 0.88908, 0.87758, 0.86676, 0.78442])"
      ]
     },
     "execution_count": 22,
     "metadata": {},
     "output_type": "execute_result"
    }
   ],
   "source": [
    "xsec13p6_wplush_v2"
   ]
  },
  {
   "cell_type": "code",
   "execution_count": 23,
   "id": "5bfa342e",
   "metadata": {},
   "outputs": [
    {
     "data": {
      "text/plain": [
       "array([0.64934, 0.58326, 0.57562, 0.56784, 0.56082, 0.55368, 0.49898])"
      ]
     },
     "execution_count": 23,
     "metadata": {},
     "output_type": "execute_result"
    }
   ],
   "source": [
    "xsec13p6_wminush_v2"
   ]
  },
  {
   "cell_type": "code",
   "execution_count": 24,
   "id": "ff39e44b",
   "metadata": {},
   "outputs": [
    {
     "data": {
      "text/plain": [
       "array([0.91782, 0.8301 , 0.81964, 0.80956, 0.79952, 0.79584, 0.71592])"
      ]
     },
     "execution_count": 24,
     "metadata": {},
     "output_type": "execute_result"
    }
   ],
   "source": [
    "xsec13p6_zh_v2"
   ]
  },
  {
   "cell_type": "code",
   "execution_count": 25,
   "id": "977d7b08",
   "metadata": {},
   "outputs": [
    {
     "data": {
      "text/plain": [
       "array([0.64116, 0.58446, 0.5783 , 0.57106, 0.56542, 0.5591 , 0.51072])"
      ]
     },
     "execution_count": 25,
     "metadata": {},
     "output_type": "execute_result"
    }
   ],
   "source": [
    "xsec13p6_tth_v2"
   ]
  },
  {
   "cell_type": "code",
   "execution_count": 26,
   "id": "65fa359a",
   "metadata": {},
   "outputs": [
    {
     "data": {
      "text/plain": [
       "array([0.59864, 0.54028, 0.53296, 0.52694, 0.51954, 0.51344, 0.46484])"
      ]
     },
     "execution_count": 26,
     "metadata": {},
     "output_type": "execute_result"
    }
   ],
   "source": [
    "xsec13p6_bbh_v2"
   ]
  },
  {
   "cell_type": "code",
   "execution_count": 34,
   "id": "057a75eb",
   "metadata": {},
   "outputs": [
    {
     "data": {
      "text/plain": [
       "Text(0, 0.5, 'xsec [pb]')"
      ]
     },
     "execution_count": 34,
     "metadata": {},
     "output_type": "execute_result"
    },
    {
     "data": {
      "image/png": "[encoded data removed]",
      "text/plain": [
       "<Figure size 432x288 with 1 Axes>"
      ]
     },
     "metadata": {
      "needs_background": "light"
     },
     "output_type": "display_data"
    }
   ],
   "source": [
    "fig2, ax2 = plt.subplots()\n",
    "ax2.scatter(massarr, xsec13_ggh, label='ggH @13TeV')\n",
    "ax2.scatter(massarr, xsec13p6_ggh, label='ggH @13.6 TeV')\n",
    "ax2.scatter(massarr, xsec13p6_ggh_v2, label='ggH @13.6 TeV v2')\n",
    "ax2.scatter(massarr, xsec14_ggh, label='ggH @14 TeV')\n",
    "\n",
    "ax2.legend()\n",
    "\n",
    "ax2.set_xlabel('mass [GeV]')\n",
    "ax2.set_ylabel('xsec [pb]')"
   ]
  },
  {
   "cell_type": "code",
   "execution_count": null,
   "id": "8909b4ff",
   "metadata": {},
   "outputs": [],
   "source": []
  },
  {
   "cell_type": "code",
   "execution_count": null,
   "id": "6a18074a",
   "metadata": {},
   "outputs": [],
   "source": []
  }
 ],
 "metadata": {
  "@webio": {
   "lastCommId": null,
   "lastKernelId": null
  },
  "kernelspec": {
   "display_name": "Python 3 (ipykernel)",
   "language": "python",
   "name": "python3"
  },
  "language_info": {
   "codemirror_mode": {
    "name": "ipython",
    "version": 3
   },
   "file_extension": ".py",
   "mimetype": "text/x-python",
   "name": "python",
   "nbconvert_exporter": "python",
   "pygments_lexer": "ipython3",
   "version": "3.8.10"
  }
 },
 "nbformat": 4,
 "nbformat_minor": 5
}
