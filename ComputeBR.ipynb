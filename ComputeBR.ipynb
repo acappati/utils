{
 "cells": [
  {
   "cell_type": "code",
   "execution_count": 4,
   "id": "e3c0586d",
   "metadata": {},
   "outputs": [],
   "source": [
    "import sys                                                                                                                                                                             \n",
    "import pandas as pd                                                                                                                                                                    \n",
    "import matplotlib as mpl                                                                                                                                                               \n",
    "import matplotlib.pyplot as plt                                                                                                                                                        \n",
    "import os                                                                                                                                                                              \n",
    "import numpy as np   "
   ]
  },
  {
   "cell_type": "markdown",
   "id": "4a27daf1",
   "metadata": {},
   "source": [
    "# How to compute BR (ZH and ttH)"
   ]
  },
  {
   "cell_type": "markdown",
   "id": "0eaff87a",
   "metadata": {},
   "source": [
    "BR(H->ZZ->2L2X) = BR(H->4L) + BR(H->2L2q) + BR(H->ZZ*->2L2nu) x BR(H->2L2nu) / [ BR(H->ZZ*->2L2nu) + BR(H->WW*->2L2nu) ] \n",
    "where BR(H->4L) BR(H->2L2q) and BR(H->2L2nu) are taken from the YR4 Twikis.\n",
    "\n",
    "BR column also includes the gen filter efficiency (0.15038 for ZH and 0.1544 for ttH) (old values)\n",
    "\n",
    "BR values taken from YR4: https://twiki.cern.ch/twiki/bin/view/LHCPhysics/CERNYellowReportPageBR"
   ]
  },
  {
   "cell_type": "code",
   "execution_count": 5,
   "id": "19409553",
   "metadata": {},
   "outputs": [],
   "source": [
    "# values from YR4\n",
    "# BR of H120, H124, H124.5, H125, H125.5, H126, H130\n",
    "\n",
    "# H->4l, l=e, mu, tau \n",
    "br_Hto4l = np.array([1.659e-04, 2.502e-04, 2.622e-04, 2.745e-04, 2.872e-04, 3.133e-04, 4.124e-04]) \n",
    "\n",
    "# H->2l2q, l = e, mu, tau\n",
    "br_Hto2l2q = np.array([2.200e-03, 3.337e-03, 3.500e-03, 3.668e-03, 3.840e-03, 4.016e-03, 5.545e-03])\n",
    "\n",
    "# H->2l2nu, l = e, mu, tau\n",
    "br_Hto2l2nu = np.array([1.526e-02, 2.160e-02, 2.248e-02, 2.338e-02, 2.429e-02, 2.523e-02, 3.323e-02])\n",
    "\n",
    "# H->ZZ\n",
    "br_HtoZZ = np.array([1.572e-02, 2.383e-02, 2.499e-02, 2.619e-02, 2.741e-02, 2.866e-02, 3.955e-02])\n",
    "\n",
    "# H->WW\n",
    "br_HtoWW = np.array([1.405e-01, 1.977e-01, 2.056e-01, 2.137e-01, 2.219e-01, 2.303e-01, 3.021e-01])\n",
    "\n",
    "# values from the PDG\n",
    "# Z->ll\n",
    "br_Ztoll =  3.3658e-02\n",
    "# Z->nunu (invisible)\n",
    "br_Ztonunu = 20e-02\n",
    "# W->lnu\n",
    "br_Wtolnu = 10.86e-02"
   ]
  },
  {
   "cell_type": "code",
   "execution_count": 6,
   "id": "6e16aa0b",
   "metadata": {},
   "outputs": [],
   "source": [
    "br_HtoZZto2l2nu = br_HtoZZ * 2. * br_Ztoll * br_Ztonunu * 2."
   ]
  },
  {
   "cell_type": "code",
   "execution_count": 7,
   "id": "18ddf210",
   "metadata": {},
   "outputs": [
    {
     "data": {
      "text/plain": [
       "array([0.00042328, 0.00064166, 0.00067289, 0.0007052 , 0.00073805,\n",
       "       0.00077171, 0.00106494])"
      ]
     },
     "execution_count": 7,
     "metadata": {},
     "output_type": "execute_result"
    }
   ],
   "source": [
    "br_HtoZZto2l2nu"
   ]
  },
  {
   "cell_type": "code",
   "execution_count": 8,
   "id": "26fad424",
   "metadata": {},
   "outputs": [],
   "source": [
    "br_HtoWWto2l2nu = br_HtoWW * 2. * br_Wtolnu * br_Wtolnu * 2."
   ]
  },
  {
   "cell_type": "code",
   "execution_count": 9,
   "id": "fb97921a",
   "metadata": {},
   "outputs": [
    {
     "data": {
      "text/plain": [
       "array([0.00662821, 0.00932666, 0.00969935, 0.01008148, 0.01046832,\n",
       "       0.0108646 , 0.01425182])"
      ]
     },
     "execution_count": 9,
     "metadata": {},
     "output_type": "execute_result"
    }
   ],
   "source": [
    "br_HtoWWto2l2nu"
   ]
  },
  {
   "cell_type": "markdown",
   "id": "c3bc649a",
   "metadata": {},
   "source": [
    "### Results"
   ]
  },
  {
   "cell_type": "code",
   "execution_count": 10,
   "id": "7b56ae65",
   "metadata": {},
   "outputs": [],
   "source": [
    "br_2l2nu_temp = br_HtoZZto2l2nu * br_Hto2l2nu\n",
    "br_2l2nu_temp1 = br_HtoZZto2l2nu + br_HtoWWto2l2nu\n",
    "br_2l2nu_temp2 = br_2l2nu_temp / br_2l2nu_temp1"
   ]
  },
  {
   "cell_type": "code",
   "execution_count": 11,
   "id": "9ae53c79",
   "metadata": {},
   "outputs": [],
   "source": [
    "BR_HtoZZto2l2X = br_Hto4l + br_Hto2l2q + br_2l2nu_temp2"
   ]
  },
  {
   "cell_type": "code",
   "execution_count": 12,
   "id": "5499ed0f",
   "metadata": {},
   "outputs": [
    {
     "data": {
      "text/plain": [
       "array([0.00328192, 0.00497758, 0.00522057, 0.00547102, 0.00572694,\n",
       "       0.00600253, 0.00826781])"
      ]
     },
     "execution_count": 12,
     "metadata": {},
     "output_type": "execute_result"
    }
   ],
   "source": [
    "BR_HtoZZto2l2X"
   ]
  },
  {
   "cell_type": "markdown",
   "id": "6aa62011",
   "metadata": {},
   "source": [
    "### Filter efficiency"
   ]
  },
  {
   "cell_type": "code",
   "execution_count": 13,
   "id": "33e5a685",
   "metadata": {},
   "outputs": [],
   "source": [
    "f_eff_ZH = 0.154"
   ]
  },
  {
   "cell_type": "code",
   "execution_count": 14,
   "id": "e8c9076a",
   "metadata": {},
   "outputs": [
    {
     "data": {
      "text/plain": [
       "array([0.00050542, 0.00076655, 0.00080397, 0.00084254, 0.00088195,\n",
       "       0.00092439, 0.00127324])"
      ]
     },
     "execution_count": 14,
     "metadata": {},
     "output_type": "execute_result"
    }
   ],
   "source": [
    "BR_HtoZZto2l2X * f_eff_ZH"
   ]
  },
  {
   "cell_type": "markdown",
   "id": "587e52af",
   "metadata": {},
   "source": [
    "## Filter Efficiency (29/1/2024 update)"
   ]
  },
  {
   "cell_type": "code",
   "execution_count": 15,
   "id": "ab46f92c",
   "metadata": {},
   "outputs": [],
   "source": [
    "# filter eff computed by running over 100k events\n",
    "# in total 100k events are generated and \n",
    "# out of those near 15% events are the one selected by our filter, providing us these numbers\n",
    "# all come with ~0.32% uncertainty\n",
    "\n",
    "# numbers for mH 120, 124, 124.5, 125, 125.5, 126, 130\n",
    "f_eff_arr = [0.15103, 0.15093, 0.15069, 0.15012, 0.15058, 0.15045, 0.15003]"
   ]
  },
  {
   "cell_type": "code",
   "execution_count": 16,
   "id": "47d8505a",
   "metadata": {},
   "outputs": [
    {
     "data": {
      "text/plain": [
       "array([0.00049567, 0.00075127, 0.00078669, 0.00082131, 0.00086236,\n",
       "       0.00090308, 0.00124042])"
      ]
     },
     "execution_count": 16,
     "metadata": {},
     "output_type": "execute_result"
    }
   ],
   "source": [
    "BR_HtoZZto2l2X * f_eff_arr"
   ]
  },
  {
   "cell_type": "markdown",
   "id": "25f2e5dc",
   "metadata": {},
   "source": [
    "# try to reproduce BR from old csv files"
   ]
  },
  {
   "cell_type": "markdown",
   "id": "bbd75f0e",
   "metadata": {},
   "source": [
    "YR3: https://twiki.cern.ch/twiki/bin/view/LHCPhysics/CERNYellowReportPageBR2014"
   ]
  },
  {
   "cell_type": "code",
   "execution_count": 17,
   "id": "0d0033b3",
   "metadata": {},
   "outputs": [],
   "source": [
    "# values from YR3 \n",
    "# BR of H120, H124, H125, H126, H130\n",
    "\n",
    "br_Hto4l_YR3 = np.array([1.67e-04, 2.52e-04, 2.76e-04, 3.02e-04, 4.14e-04])\n",
    "br_Hto2l2q_YR3 = np.array([2.22e-03, 3.37e-03, 3.70e-03, 4.05e-03, 5.59e-03])\n",
    "br_Hto2l2nu_YR3 = np.array([1.53e-02, 2.16e-02, 2.34e-02, 2.53e-02, 3.32e-02])\n",
    "\n",
    "\n",
    "br_HtoZZ_YR3 = np.array([1.59e-02, 2.41e-02, 2.64e-02, 2.89e-02, 3.98e-02])\n",
    "br_HtoWW_YR3 = np.array([1.41e-01, 1.99e-01, 2.15e-01, 2.31e-01, 3.03e-01])"
   ]
  },
  {
   "cell_type": "code",
   "execution_count": 18,
   "id": "a25f0171",
   "metadata": {},
   "outputs": [],
   "source": [
    "br_HtoZZto2l2nu_YR3 = br_HtoZZ_YR3 * 2. * br_Ztoll * br_Ztonunu * 2.\n",
    "br_HtoWWto2l2nu_YR3 = br_HtoWW_YR3 * 2. * br_Wtolnu * br_Wtolnu * 2."
   ]
  },
  {
   "cell_type": "code",
   "execution_count": 19,
   "id": "4f3f9fb0",
   "metadata": {},
   "outputs": [
    {
     "data": {
      "text/plain": [
       "array([0.00042813, 0.00064893, 0.00071086, 0.00077817, 0.00107167])"
      ]
     },
     "execution_count": 19,
     "metadata": {},
     "output_type": "execute_result"
    }
   ],
   "source": [
    "br_HtoZZto2l2nu_YR3"
   ]
  },
  {
   "cell_type": "code",
   "execution_count": 20,
   "id": "76f62779",
   "metadata": {},
   "outputs": [
    {
     "data": {
      "text/plain": [
       "array([0.00665179, 0.00938799, 0.01014281, 0.01089762, 0.01429428])"
      ]
     },
     "execution_count": 20,
     "metadata": {},
     "output_type": "execute_result"
    }
   ],
   "source": [
    "br_HtoWWto2l2nu_YR3"
   ]
  },
  {
   "cell_type": "markdown",
   "id": "ec50fb06",
   "metadata": {},
   "source": [
    "### results YR3"
   ]
  },
  {
   "cell_type": "code",
   "execution_count": 21,
   "id": "784b0c13",
   "metadata": {},
   "outputs": [],
   "source": [
    "br_2l2nu_temp_YR3 = br_HtoZZto2l2nu_YR3 * br_Hto2l2nu_YR3\n",
    "br_2l2nu_temp1_YR3 = br_HtoZZto2l2nu_YR3 + br_HtoWWto2l2nu_YR3\n",
    "br_2l2nu_temp2_YR3 = br_2l2nu_temp_YR3 / br_2l2nu_temp1_YR3"
   ]
  },
  {
   "cell_type": "code",
   "execution_count": 22,
   "id": "ab66f7c2",
   "metadata": {},
   "outputs": [],
   "source": [
    "BR_HtoZZto2l2X_YR3 = br_Hto4l_YR3 + br_Hto2l2q_YR3 + br_2l2nu_temp2_YR3"
   ]
  },
  {
   "cell_type": "code",
   "execution_count": 23,
   "id": "5f2014ea",
   "metadata": {},
   "outputs": [
    {
     "data": {
      "text/plain": [
       "array([0.00331221, 0.00501852, 0.00550858, 0.0060382 , 0.00831947])"
      ]
     },
     "execution_count": 23,
     "metadata": {},
     "output_type": "execute_result"
    }
   ],
   "source": [
    "BR_HtoZZto2l2X_YR3"
   ]
  },
  {
   "cell_type": "markdown",
   "id": "724ddac0",
   "metadata": {},
   "source": [
    "### multiplied for filter eff (old values)"
   ]
  },
  {
   "cell_type": "code",
   "execution_count": 24,
   "id": "69409204",
   "metadata": {},
   "outputs": [],
   "source": [
    "BR_ZH = BR_HtoZZto2l2X_YR3 * 0.15038"
   ]
  },
  {
   "cell_type": "code",
   "execution_count": 25,
   "id": "3d9032e2",
   "metadata": {},
   "outputs": [
    {
     "data": {
      "text/plain": [
       "array([0.00049809, 0.00075469, 0.00082838, 0.00090803, 0.00125108])"
      ]
     },
     "execution_count": 25,
     "metadata": {},
     "output_type": "execute_result"
    }
   ],
   "source": [
    "BR_ZH"
   ]
  },
  {
   "cell_type": "code",
   "execution_count": 26,
   "id": "7e797c17",
   "metadata": {},
   "outputs": [],
   "source": [
    "BR_ttH = BR_HtoZZto2l2X_YR3 * 0.1544"
   ]
  },
  {
   "cell_type": "code",
   "execution_count": 27,
   "id": "362c7a3f",
   "metadata": {},
   "outputs": [
    {
     "data": {
      "text/plain": [
       "array([0.0005114 , 0.00077486, 0.00085052, 0.0009323 , 0.00128453])"
      ]
     },
     "execution_count": 27,
     "metadata": {},
     "output_type": "execute_result"
    }
   ],
   "source": [
    "BR_ttH"
   ]
  },
  {
   "cell_type": "code",
   "execution_count": null,
   "id": "5e3fa9e8",
   "metadata": {},
   "outputs": [],
   "source": []
  }
 ],
 "metadata": {
  "kernelspec": {
   "display_name": "Python 3 (ipykernel)",
   "language": "python",
   "name": "python3"
  },
  "language_info": {
   "codemirror_mode": {
    "name": "ipython",
    "version": 3
   },
   "file_extension": ".py",
   "mimetype": "text/x-python",
   "name": "python",
   "nbconvert_exporter": "python",
   "pygments_lexer": "ipython3",
   "version": "3.8.10"
  }
 },
 "nbformat": 4,
 "nbformat_minor": 5
}
