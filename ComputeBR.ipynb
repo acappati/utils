{
 "cells": [
  {
   "cell_type": "code",
   "execution_count": 1,
   "id": "e3c0586d",
   "metadata": {},
   "outputs": [],
   "source": [
    "import sys                                                                                                                                                                             \n",
    "import pandas as pd                                                                                                                                                                    \n",
    "import matplotlib as mpl                                                                                                                                                               \n",
    "import matplotlib.pyplot as plt                                                                                                                                                        \n",
    "import os                                                                                                                                                                              \n",
    "import numpy as np   "
   ]
  },
  {
   "cell_type": "markdown",
   "id": "4a27daf1",
   "metadata": {},
   "source": [
    "# How to compute BR (ZH and ttH)"
   ]
  },
  {
   "cell_type": "markdown",
   "id": "0eaff87a",
   "metadata": {},
   "source": [
    "BR(H->ZZ->2L2X) = BR(H->4L) + BR(H->2L2q) + BR(H->ZZ*->2L2nu) * BR(H->2L2nu) / [ BR(H->ZZ*->2L2nu) + BR(H->WW*->2L2nu) ] \n",
    "where BR(H->4L) BR(H->2L2q) and BR(H->2L2nu) are taken from the YR3 Twikis.\n",
    "\n",
    "BR column also includes the gen filter efficiency (0.15038 for ZH and 0.1544 for ttH)\n",
    "\n",
    "BR values taken from YR4: https://twiki.cern.ch/twiki/bin/view/LHCPhysics/CERNYellowReportPageBR"
   ]
  },
  {
   "cell_type": "code",
   "execution_count": null,
   "id": "19409553",
   "metadata": {},
   "outputs": [],
   "source": [
    "br_"
   ]
  }
 ],
 "metadata": {
  "kernelspec": {
   "display_name": "Python 3 (ipykernel)",
   "language": "python",
   "name": "python3"
  },
  "language_info": {
   "codemirror_mode": {
    "name": "ipython",
    "version": 3
   },
   "file_extension": ".py",
   "mimetype": "text/x-python",
   "name": "python",
   "nbconvert_exporter": "python",
   "pygments_lexer": "ipython3",
   "version": "3.10.5"
  }
 },
 "nbformat": 4,
 "nbformat_minor": 5
}
